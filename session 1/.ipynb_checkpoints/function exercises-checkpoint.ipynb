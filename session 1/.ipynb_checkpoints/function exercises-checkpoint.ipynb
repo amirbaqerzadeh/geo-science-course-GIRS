{
 "cells": [
  {
   "cell_type": "markdown",
   "id": "79a294fe-e82a-448d-8db9-37b0ea12598f",
   "metadata": {},
   "source": [
    "# Session 2: How to Write Functions in Python"
   ]
  },
  {
   "cell_type": "markdown",
   "id": "f29720b4-e93d-480b-9dca-e24d3594b877",
   "metadata": {},
   "source": [
    "## Exercise 1: Function with Default Arguments\n",
    "Write a function `greet_user` that takes a name as an argument and prints a greeting message. If no name is provided, it should default to \"Guest\".\n"
   ]
  },
  {
   "cell_type": "code",
   "execution_count": 3,
   "id": "13fa0e4c-e5d2-42aa-88e0-42d508a0c2f8",
   "metadata": {},
   "outputs": [],
   "source": [
    "def greet_user(name=\"Guest\"):\n",
    "    #ToDo\n",
    "    print(f\"Hello, {name}!\")"
   ]
  },
  {
   "cell_type": "code",
   "execution_count": null,
   "id": "d465866b-572f-4691-9cc7-db36aa701335",
   "metadata": {},
   "outputs": [],
   "source": [
    "# use your function here:\n",
    "\n",
    "\n"
   ]
  },
  {
   "cell_type": "markdown",
   "id": "7a530f04-7ced-4db0-aa43-5dfdcce91250",
   "metadata": {},
   "source": [
    "## Exercise 2: Function with Multiple Return Values\n",
    "Write a function `calculate_area_perimeter` that takes the length and width of a rectangle and returns both the area and perimeter."
   ]
  },
  {
   "cell_type": "code",
   "execution_count": 4,
   "id": "0ad807cf-60e9-4bff-a9ed-bc6a1ad463d7",
   "metadata": {},
   "outputs": [],
   "source": [
    "def calculate_area_perimeter(length, width):\n",
    "    #ToDo\n",
    "    area = length * width\n",
    "    perimeter = 2 * (length + width)\n",
    "    return area, perimeter"
   ]
  },
  {
   "cell_type": "code",
   "execution_count": null,
   "id": "67cd7a7c-fe7c-4a53-8e6e-4f6369cb62ee",
   "metadata": {},
   "outputs": [],
   "source": [
    "# use your function here:\n",
    "\n",
    "\n"
   ]
  },
  {
   "cell_type": "markdown",
   "id": "6e238537-0ad8-4363-aa40-4b90bed939d5",
   "metadata": {},
   "source": [
    "## Exercise 3: Recursive Function\n",
    "Write a recursive function `factorial` that calculates the factorial of a given number."
   ]
  },
  {
   "cell_type": "code",
   "execution_count": 7,
   "id": "c1e07f2f-00cb-4a8c-bc92-1a5c4c7e9a13",
   "metadata": {},
   "outputs": [],
   "source": [
    "def factorial(n):\n",
    "    #ToDo\n",
    "    if n == 0 or n == 1:\n",
    "        return 1\n",
    "    else:\n",
    "        # Write the code\n",
    "        return  #???"
   ]
  },
  {
   "cell_type": "code",
   "execution_count": null,
   "id": "1c38d997-eade-4595-9f4a-76921c677d03",
   "metadata": {},
   "outputs": [],
   "source": [
    "# use your function here:\n",
    "\n",
    "\n"
   ]
  },
  {
   "cell_type": "markdown",
   "id": "5e832df1-57a5-4389-899c-4aa2ac0961a9",
   "metadata": {},
   "source": [
    "## Exercise 4: Lambda Function\n",
    "Write a lambda function `square` that takes a number and returns its square."
   ]
  },
  {
   "cell_type": "code",
   "execution_count": 9,
   "id": "1265f36c-6ca4-47c7-a278-300480553a07",
   "metadata": {},
   "outputs": [],
   "source": [
    "#square = lambda ?????"
   ]
  },
  {
   "cell_type": "code",
   "execution_count": null,
   "id": "f7f68e5c-0fd4-44a7-aa10-b10b299681f2",
   "metadata": {},
   "outputs": [],
   "source": [
    "# use your function here:\n",
    "\n",
    "\n"
   ]
  },
  {
   "cell_type": "markdown",
   "id": "08e2a1f3-f003-4209-b34b-5b32f9422b4c",
   "metadata": {},
   "source": [
    "## Exercise 5: Function with Variable-Length Arguments\n",
    "Write a function `sum_all` that takes any number of arguments and returns their sum."
   ]
  },
  {
   "cell_type": "code",
   "execution_count": 10,
   "id": "04dc1e32-9b69-435e-9fbd-b7e04795f635",
   "metadata": {},
   "outputs": [],
   "source": [
    "def sum_all(*args):\n",
    "    #ToDo\n",
    "    return sum(args)\n"
   ]
  },
  {
   "cell_type": "code",
   "execution_count": null,
   "id": "96ef665e-c2a4-46ea-bb62-8e3ff629a6fa",
   "metadata": {},
   "outputs": [],
   "source": [
    "# use your function here:\n",
    "\n",
    "\n"
   ]
  },
  {
   "cell_type": "markdown",
   "id": "ce22d3d4-5e33-48cf-8dfc-66c8b45f1d0f",
   "metadata": {},
   "source": [
    "## Exercise 6: Function with Keyword Arguments\n",
    "Write a function `create_user` that takes keyword arguments for `username`, `email`, and `age`, and prints a user profile.\n"
   ]
  },
  {
   "cell_type": "code",
   "execution_count": 11,
   "id": "9d01bbce-1e93-4f04-b5b7-0a473c644248",
   "metadata": {},
   "outputs": [],
   "source": [
    "def create_user(**kwargs):\n",
    "    #ToDo\n",
    "    print(f\"Username: {kwargs.get('username')}\")\n",
    "    print(f\"Email: {kwargs.get('email')}\")\n",
    "    print(f\"Age: {kwargs.get('age')}\")\n"
   ]
  },
  {
   "cell_type": "code",
   "execution_count": null,
   "id": "ea9b9ea2-e094-4e4d-8a5f-d5bd1f5e5eb9",
   "metadata": {},
   "outputs": [],
   "source": [
    "# use your function here:\n",
    "\n",
    "\n"
   ]
  },
  {
   "cell_type": "markdown",
   "id": "d4d29748-20be-456a-a71e-f0258dad5f24",
   "metadata": {},
   "source": [
    "## Exercise 7: Function with Docstring\n",
    "Write a function `multiply` that takes two numbers and returns their product. Include a docstring that explains the function's purpose.\n"
   ]
  },
  {
   "cell_type": "code",
   "execution_count": 12,
   "id": "59eb71e5-24ee-4210-9ddc-a1e03c22b7f3",
   "metadata": {},
   "outputs": [],
   "source": [
    "def multiply(a, b):\n",
    "    \"\"\"\n",
    "        write a docstring here.\n",
    "    \"\"\"\n",
    "    #ToDo\n",
    "    return a * b\n",
    "\n"
   ]
  },
  {
   "cell_type": "code",
   "execution_count": null,
   "id": "4cf33f05-4bc9-473e-895d-888484c1ee3b",
   "metadata": {},
   "outputs": [],
   "source": [
    "# use your function here:\n",
    "\n",
    "\n"
   ]
  },
  {
   "cell_type": "markdown",
   "id": "55030dca-0af0-4c40-88bf-5d69e9859421",
   "metadata": {},
   "source": [
    "## Exercise 8: Function with Type Annotations\n",
    "Write a function `divide` that takes two numbers and returns their division. Use type annotations to specify that the function accepts floats and returns a float."
   ]
  },
  {
   "cell_type": "code",
   "execution_count": 13,
   "id": "0f09f5c6-f5dd-4cdf-8f4f-56b0d433fe04",
   "metadata": {},
   "outputs": [],
   "source": [
    "def divide(a: float, b: float) -> float:\n",
    "    #ToDo\n",
    "    return a / b"
   ]
  },
  {
   "cell_type": "code",
   "execution_count": null,
   "id": "9c32bdc0-c966-451c-a899-7beaabcd07df",
   "metadata": {},
   "outputs": [],
   "source": [
    "# use your function here:\n",
    "\n",
    "\n"
   ]
  },
  {
   "cell_type": "markdown",
   "id": "b2bc8590-308e-42f9-a2e1-503fc087eec8",
   "metadata": {},
   "source": [
    "## Exercise 9: Function with Error Handling\n",
    "Write a function `safe_divide` that takes two numbers and returns their division. Handle the case where the denominator is zero by returning \"Error: Division by zero\".\n"
   ]
  },
  {
   "cell_type": "code",
   "execution_count": 14,
   "id": "136eccfc-4a52-4edc-b2b8-4fea265cfd9a",
   "metadata": {},
   "outputs": [],
   "source": [
    "def safe_divide(a, b):\n",
    "    #ToDo\n",
    "    try:\n",
    "        return a / b\n",
    "    except ZeroDivisionError:\n",
    "        return \"Error: Division by zero\"\n"
   ]
  },
  {
   "cell_type": "code",
   "execution_count": null,
   "id": "bf2c07e7-36f5-4e5a-b572-b74dd3eea557",
   "metadata": {},
   "outputs": [],
   "source": [
    "# use your function here:\n",
    "\n",
    "\n"
   ]
  },
  {
   "cell_type": "markdown",
   "id": "80c6d9d1-64eb-46a7-8140-94ac3b0a1ec4",
   "metadata": {},
   "source": [
    "## Exercise 10: Function with Nested Functions\n",
    "Write a function `outer_function` that contains a nested function `inner_function`. The outer function should call the inner function and return its result."
   ]
  },
  {
   "cell_type": "code",
   "execution_count": 15,
   "id": "204a3a5f-1070-4f21-9bf2-aff6463e77ac",
   "metadata": {},
   "outputs": [],
   "source": [
    "def outer_function(x):\n",
    "    def inner_function(y):\n",
    "        #ToDo\n",
    "        return y * 2\n",
    "    return inner_function(x)"
   ]
  },
  {
   "cell_type": "code",
   "execution_count": 16,
   "id": "ea73926b-4818-4f8e-9004-5d584e38797a",
   "metadata": {},
   "outputs": [],
   "source": [
    "# use your function here:\n",
    "\n",
    "\n"
   ]
  },
  {
   "cell_type": "code",
   "execution_count": null,
   "id": "8a483af3-7fb2-48b0-ac68-37b360c8731f",
   "metadata": {},
   "outputs": [],
   "source": []
  },
  {
   "cell_type": "code",
   "execution_count": null,
   "id": "e14e6b2e-d908-4a8b-9959-fc2f0873bcab",
   "metadata": {},
   "outputs": [],
   "source": []
  },
  {
   "cell_type": "code",
   "execution_count": null,
   "id": "ad372670-d6c1-4252-a5fa-328bda8e802f",
   "metadata": {},
   "outputs": [],
   "source": []
  }
 ],
 "metadata": {
  "kernelspec": {
   "display_name": "Python 3 (ipykernel)",
   "language": "python",
   "name": "python3"
  },
  "language_info": {
   "codemirror_mode": {
    "name": "ipython",
    "version": 3
   },
   "file_extension": ".py",
   "mimetype": "text/x-python",
   "name": "python",
   "nbconvert_exporter": "python",
   "pygments_lexer": "ipython3",
   "version": "3.11.11"
  }
 },
 "nbformat": 4,
 "nbformat_minor": 5
}
