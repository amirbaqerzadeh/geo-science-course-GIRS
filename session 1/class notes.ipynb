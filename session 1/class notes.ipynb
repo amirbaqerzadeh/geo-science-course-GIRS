{
 "cells": [
  {
   "cell_type": "markdown",
   "id": "0a919902-1b69-40a3-b506-16d0149a0297",
   "metadata": {},
   "source": [
    "# Numbers and more in Python!\n",
    "\n",
    "In this lecture, we will learn about numbers in Python and how to use them.\n",
    "\n",
    "We'll learn about the following topics:\n",
    "\n",
    "    1.) Types of Numbers in Python\n",
    "    2.) Basic Arithmetic\n",
    "    3.) Differences between classic division and floor division\n",
    "    4.) Object Assignment in Python"
   ]
  },
  {
   "cell_type": "code",
   "execution_count": 1,
   "id": "b9c27052-fc2b-45be-b10a-eb8c97a3450a",
   "metadata": {},
   "outputs": [
    {
     "data": {
      "text/plain": [
       "6"
      ]
     },
     "execution_count": 1,
     "metadata": {},
     "output_type": "execute_result"
    }
   ],
   "source": [
    "2 + 4"
   ]
  },
  {
   "cell_type": "code",
   "execution_count": 2,
   "id": "abcff171-c52d-415c-8736-2896576c4bb3",
   "metadata": {},
   "outputs": [
    {
     "data": {
      "text/plain": [
       "-1"
      ]
     },
     "execution_count": 2,
     "metadata": {},
     "output_type": "execute_result"
    }
   ],
   "source": [
    "4 - 5"
   ]
  },
  {
   "cell_type": "code",
   "execution_count": 3,
   "id": "b9128123-68e8-4aa7-a655-a9b889eadd66",
   "metadata": {},
   "outputs": [
    {
     "data": {
      "text/plain": [
       "6"
      ]
     },
     "execution_count": 3,
     "metadata": {},
     "output_type": "execute_result"
    }
   ],
   "source": [
    "3 * 2"
   ]
  },
  {
   "cell_type": "code",
   "execution_count": 4,
   "id": "9fca5322-8975-4511-9e61-32e1655e717f",
   "metadata": {},
   "outputs": [
    {
     "data": {
      "text/plain": [
       "2.4"
      ]
     },
     "execution_count": 4,
     "metadata": {},
     "output_type": "execute_result"
    }
   ],
   "source": [
    "12 / 5"
   ]
  },
  {
   "cell_type": "code",
   "execution_count": 5,
   "id": "227b8c75-e243-4fac-9926-f602e944a6e3",
   "metadata": {},
   "outputs": [
    {
     "data": {
      "text/plain": [
       "4"
      ]
     },
     "execution_count": 5,
     "metadata": {},
     "output_type": "execute_result"
    }
   ],
   "source": [
    "14 // 3"
   ]
  },
  {
   "cell_type": "code",
   "execution_count": 6,
   "id": "4faf1f32-28d8-4c71-8cf7-be8195e489cc",
   "metadata": {},
   "outputs": [
    {
     "data": {
      "text/plain": [
       "2"
      ]
     },
     "execution_count": 6,
     "metadata": {},
     "output_type": "execute_result"
    }
   ],
   "source": [
    "14 % 3"
   ]
  },
  {
   "cell_type": "code",
   "execution_count": 7,
   "id": "a3f59fe6-70be-4077-90a3-d9f46493dcd1",
   "metadata": {},
   "outputs": [
    {
     "data": {
      "text/plain": [
       "64"
      ]
     },
     "execution_count": 7,
     "metadata": {},
     "output_type": "execute_result"
    }
   ],
   "source": [
    "4 ** 3"
   ]
  },
  {
   "cell_type": "code",
   "execution_count": 8,
   "id": "582082fc-c2ac-4f62-b7c9-1875212528eb",
   "metadata": {},
   "outputs": [
    {
     "data": {
      "text/plain": [
       "2"
      ]
     },
     "execution_count": 8,
     "metadata": {},
     "output_type": "execute_result"
    }
   ],
   "source": [
    "2 + 10 * (3 - 3)"
   ]
  },
  {
   "cell_type": "code",
   "execution_count": 12,
   "id": "ab990cc9-bd41-4a14-afbe-427366bd3faa",
   "metadata": {},
   "outputs": [],
   "source": [
    " # this is a tag usefol for comment\n",
    "\n",
    "x = 2"
   ]
  },
  {
   "cell_type": "code",
   "execution_count": 13,
   "id": "00b3f67e-8930-4041-b89e-e42eef50bcc4",
   "metadata": {},
   "outputs": [
    {
     "name": "stdout",
     "output_type": "stream",
     "text": [
      "2\n"
     ]
    }
   ],
   "source": [
    "print(x)"
   ]
  },
  {
   "cell_type": "code",
   "execution_count": 14,
   "id": "976dbfb3-88bf-4bf4-a967-1176e4d6feda",
   "metadata": {},
   "outputs": [
    {
     "data": {
      "text/plain": [
       "int"
      ]
     },
     "execution_count": 14,
     "metadata": {},
     "output_type": "execute_result"
    }
   ],
   "source": [
    "type(x)"
   ]
  },
  {
   "cell_type": "code",
   "execution_count": 15,
   "id": "534cce70-27e5-4839-a57f-9adbe1510bdd",
   "metadata": {},
   "outputs": [],
   "source": [
    "y = 3.2"
   ]
  },
  {
   "cell_type": "code",
   "execution_count": 16,
   "id": "6d9ade18-3680-4072-bd24-3b782bcdd59d",
   "metadata": {},
   "outputs": [
    {
     "data": {
      "text/plain": [
       "float"
      ]
     },
     "execution_count": 16,
     "metadata": {},
     "output_type": "execute_result"
    }
   ],
   "source": [
    "type(y)"
   ]
  },
  {
   "cell_type": "code",
   "execution_count": 17,
   "id": "8e6d66c1-1226-448e-938d-59bc6bdced97",
   "metadata": {},
   "outputs": [],
   "source": [
    "z = x ** 2 + y ** 2"
   ]
  },
  {
   "cell_type": "code",
   "execution_count": 18,
   "id": "7b8c828e-ae5a-4b02-a750-379592cef4de",
   "metadata": {},
   "outputs": [
    {
     "data": {
      "text/plain": [
       "14.240000000000002"
      ]
     },
     "execution_count": 18,
     "metadata": {},
     "output_type": "execute_result"
    }
   ],
   "source": [
    "z"
   ]
  },
  {
   "cell_type": "code",
   "execution_count": 19,
   "id": "753d0399-2bae-41d7-b57c-691e846e9244",
   "metadata": {},
   "outputs": [
    {
     "name": "stdout",
     "output_type": "stream",
     "text": [
      "14.240000000000002\n"
     ]
    }
   ],
   "source": [
    "print(z)"
   ]
  },
  {
   "cell_type": "code",
   "execution_count": 20,
   "id": "b9857a22-8d66-4b14-8f46-fcf38b5f231c",
   "metadata": {},
   "outputs": [],
   "source": [
    "# strings\n",
    "\n",
    "a = \"Hello this is a course in geo-science!\""
   ]
  },
  {
   "cell_type": "code",
   "execution_count": 21,
   "id": "81e92065-36cb-4767-8a32-3840cfade993",
   "metadata": {},
   "outputs": [
    {
     "data": {
      "text/plain": [
       "str"
      ]
     },
     "execution_count": 21,
     "metadata": {},
     "output_type": "execute_result"
    }
   ],
   "source": [
    "type(a)"
   ]
  },
  {
   "cell_type": "code",
   "execution_count": 24,
   "id": "5e9bb3f0-8b7f-45b9-ba38-833c980a8fcb",
   "metadata": {},
   "outputs": [
    {
     "ename": "SyntaxError",
     "evalue": "unterminated string literal (detected at line 1) (951956294.py, line 1)",
     "output_type": "error",
     "traceback": [
      "\u001b[1;36m  Cell \u001b[1;32mIn[24], line 1\u001b[1;36m\u001b[0m\n\u001b[1;33m    b = 'my second sentence\u001b[0m\n\u001b[1;37m        ^\u001b[0m\n\u001b[1;31mSyntaxError\u001b[0m\u001b[1;31m:\u001b[0m unterminated string literal (detected at line 1)\n"
     ]
    }
   ],
   "source": [
    "b = 'my second sentence"
   ]
  },
  {
   "cell_type": "code",
   "execution_count": 23,
   "id": "73d44cde-5b93-46fd-8d2d-3ff872c10224",
   "metadata": {},
   "outputs": [
    {
     "data": {
      "text/plain": [
       "str"
      ]
     },
     "execution_count": 23,
     "metadata": {},
     "output_type": "execute_result"
    }
   ],
   "source": [
    "type(b)"
   ]
  },
  {
   "cell_type": "code",
   "execution_count": 28,
   "id": "8256abd2-40da-4ca0-ae48-b373784930fe",
   "metadata": {},
   "outputs": [],
   "source": [
    "c = 11"
   ]
  },
  {
   "cell_type": "code",
   "execution_count": 29,
   "id": "becf4b5b-10fd-4cf6-919f-d1733ce78992",
   "metadata": {},
   "outputs": [
    {
     "name": "stdout",
     "output_type": "stream",
     "text": [
      "my favorite number is 11\n"
     ]
    }
   ],
   "source": [
    "print(f\"my favorite number is {c}\")"
   ]
  },
  {
   "cell_type": "code",
   "execution_count": 30,
   "id": "85003158-f221-456b-869f-e7929e8da863",
   "metadata": {},
   "outputs": [],
   "source": [
    "a = 'e'\n",
    "v = 'i'"
   ]
  },
  {
   "cell_type": "code",
   "execution_count": 31,
   "id": "a557306a-1a69-44cf-805f-3ca84b8b9dba",
   "metadata": {},
   "outputs": [
    {
     "data": {
      "text/plain": [
       "'eeeeeeeeee'"
      ]
     },
     "execution_count": 31,
     "metadata": {},
     "output_type": "execute_result"
    }
   ],
   "source": [
    "10 * a"
   ]
  },
  {
   "cell_type": "code",
   "execution_count": 32,
   "id": "11a0317e-99de-427a-b759-822d1846eeb9",
   "metadata": {},
   "outputs": [
    {
     "data": {
      "text/plain": [
       "'ie'"
      ]
     },
     "execution_count": 32,
     "metadata": {},
     "output_type": "execute_result"
    }
   ],
   "source": [
    "v + a"
   ]
  },
  {
   "cell_type": "code",
   "execution_count": 33,
   "id": "75aa1de5-2b86-490a-bcc0-604072e5d0bf",
   "metadata": {},
   "outputs": [
    {
     "ename": "TypeError",
     "evalue": "unsupported operand type(s) for ** or pow(): 'int' and 'str'",
     "output_type": "error",
     "traceback": [
      "\u001b[1;31m---------------------------------------------------------------------------\u001b[0m",
      "\u001b[1;31mTypeError\u001b[0m                                 Traceback (most recent call last)",
      "Cell \u001b[1;32mIn[33], line 1\u001b[0m\n\u001b[1;32m----> 1\u001b[0m \u001b[38;5;241;43m1\u001b[39;49m\u001b[43m \u001b[49m\u001b[38;5;241;43m*\u001b[39;49m\u001b[38;5;241;43m*\u001b[39;49m\u001b[43m \u001b[49m\u001b[43ma\u001b[49m\n",
      "\u001b[1;31mTypeError\u001b[0m: unsupported operand type(s) for ** or pow(): 'int' and 'str'"
     ]
    }
   ],
   "source": [
    "1 ** a"
   ]
  },
  {
   "cell_type": "code",
   "execution_count": 34,
   "id": "fe73eecf-5145-45ed-b1db-fca93825147a",
   "metadata": {},
   "outputs": [],
   "source": [
    "q = '2'"
   ]
  },
  {
   "cell_type": "code",
   "execution_count": 35,
   "id": "2e8404a8-19b4-470e-a56b-fa1723a9494a",
   "metadata": {},
   "outputs": [
    {
     "ename": "TypeError",
     "evalue": "unsupported operand type(s) for ** or pow(): 'int' and 'str'",
     "output_type": "error",
     "traceback": [
      "\u001b[1;31m---------------------------------------------------------------------------\u001b[0m",
      "\u001b[1;31mTypeError\u001b[0m                                 Traceback (most recent call last)",
      "Cell \u001b[1;32mIn[35], line 1\u001b[0m\n\u001b[1;32m----> 1\u001b[0m \u001b[38;5;241;43m2\u001b[39;49m\u001b[43m \u001b[49m\u001b[38;5;241;43m*\u001b[39;49m\u001b[38;5;241;43m*\u001b[39;49m\u001b[43m \u001b[49m\u001b[43mq\u001b[49m\n",
      "\u001b[1;31mTypeError\u001b[0m: unsupported operand type(s) for ** or pow(): 'int' and 'str'"
     ]
    }
   ],
   "source": [
    "2 ** q"
   ]
  },
  {
   "cell_type": "code",
   "execution_count": 36,
   "id": "b4a8770b-b131-4b58-b964-ad4aeb1c7961",
   "metadata": {},
   "outputs": [
    {
     "data": {
      "text/plain": [
       "str"
      ]
     },
     "execution_count": 36,
     "metadata": {},
     "output_type": "execute_result"
    }
   ],
   "source": [
    "type(q)"
   ]
  },
  {
   "cell_type": "code",
   "execution_count": 37,
   "id": "de0f0475-2640-481d-83a8-067d6c1c1d68",
   "metadata": {},
   "outputs": [
    {
     "data": {
      "text/plain": [
       "'22'"
      ]
     },
     "execution_count": 37,
     "metadata": {},
     "output_type": "execute_result"
    }
   ],
   "source": [
    "2 * q"
   ]
  },
  {
   "cell_type": "code",
   "execution_count": 38,
   "id": "cc2d1907-2c1a-451c-bb05-cf5ddc7014a0",
   "metadata": {},
   "outputs": [],
   "source": [
    "# list\n",
    "list_1 = [1, 3, 6]"
   ]
  },
  {
   "cell_type": "code",
   "execution_count": 39,
   "id": "67e50b75-2ac4-410a-b3b7-bf0eeea527dd",
   "metadata": {},
   "outputs": [
    {
     "data": {
      "text/plain": [
       "list"
      ]
     },
     "execution_count": 39,
     "metadata": {},
     "output_type": "execute_result"
    }
   ],
   "source": [
    "type(list_1)"
   ]
  },
  {
   "cell_type": "code",
   "execution_count": 40,
   "id": "303c6dc8-4bb6-4d71-a710-59070370fd93",
   "metadata": {},
   "outputs": [],
   "source": [
    "my_list = [1, 'a', -1, [3, 4, 'b']]"
   ]
  },
  {
   "cell_type": "code",
   "execution_count": 41,
   "id": "47be66a1-1b1e-4565-a3f0-6d3798bd5616",
   "metadata": {},
   "outputs": [
    {
     "data": {
      "text/plain": [
       "4"
      ]
     },
     "execution_count": 41,
     "metadata": {},
     "output_type": "execute_result"
    }
   ],
   "source": [
    "len(my_list)"
   ]
  },
  {
   "cell_type": "code",
   "execution_count": 42,
   "id": "6f434da1-0639-4e8b-bb58-64f839aae00e",
   "metadata": {},
   "outputs": [],
   "source": [
    "# indexing\n",
    "name = \"Amir\""
   ]
  },
  {
   "cell_type": "code",
   "execution_count": 43,
   "id": "07969ba0-22a1-4abc-b7e5-6727ab386e8f",
   "metadata": {},
   "outputs": [
    {
     "data": {
      "text/plain": [
       "'m'"
      ]
     },
     "execution_count": 43,
     "metadata": {},
     "output_type": "execute_result"
    }
   ],
   "source": [
    "name[1]"
   ]
  },
  {
   "cell_type": "code",
   "execution_count": 44,
   "id": "ee4e11ca-1573-4ed6-b423-aac1ea776370",
   "metadata": {},
   "outputs": [],
   "source": [
    "my_list = [1, 'a', -1, [3, 4, 'b']]"
   ]
  },
  {
   "cell_type": "code",
   "execution_count": 45,
   "id": "0864acb6-d020-436a-8a4f-5ea4515a4d7a",
   "metadata": {},
   "outputs": [
    {
     "data": {
      "text/plain": [
       "-1"
      ]
     },
     "execution_count": 45,
     "metadata": {},
     "output_type": "execute_result"
    }
   ],
   "source": [
    "my_list[2]"
   ]
  },
  {
   "cell_type": "code",
   "execution_count": 46,
   "id": "1e86f55f-95c4-4751-816b-b5057402e031",
   "metadata": {},
   "outputs": [
    {
     "data": {
      "text/plain": [
       "'b'"
      ]
     },
     "execution_count": 46,
     "metadata": {},
     "output_type": "execute_result"
    }
   ],
   "source": [
    "# nesting\n",
    "my_list[3][2]"
   ]
  },
  {
   "cell_type": "code",
   "execution_count": 47,
   "id": "93f20a63-94d1-42b1-8423-155f7ba26b78",
   "metadata": {},
   "outputs": [],
   "source": [
    "my_list = [1, 'a', -1, [3, 4, 'b']]"
   ]
  },
  {
   "cell_type": "code",
   "execution_count": 48,
   "id": "3d62ca33-dbf6-4028-ad47-73b02b9db631",
   "metadata": {},
   "outputs": [
    {
     "ename": "IndexError",
     "evalue": "list index out of range",
     "output_type": "error",
     "traceback": [
      "\u001b[1;31m---------------------------------------------------------------------------\u001b[0m",
      "\u001b[1;31mIndexError\u001b[0m                                Traceback (most recent call last)",
      "Cell \u001b[1;32mIn[48], line 1\u001b[0m\n\u001b[1;32m----> 1\u001b[0m \u001b[43mmy_list\u001b[49m\u001b[43m[\u001b[49m\u001b[38;5;241;43m5\u001b[39;49m\u001b[43m]\u001b[49m\n",
      "\u001b[1;31mIndexError\u001b[0m: list index out of range"
     ]
    }
   ],
   "source": [
    "my_list[5]"
   ]
  },
  {
   "cell_type": "code",
   "execution_count": 49,
   "id": "626ce1f5-abfc-47bf-8f45-fe030b837451",
   "metadata": {},
   "outputs": [],
   "source": [
    "a1 = 'I love python'"
   ]
  },
  {
   "cell_type": "code",
   "execution_count": 51,
   "id": "c0465d79-a283-4819-adc3-8c807ae0e84e",
   "metadata": {},
   "outputs": [
    {
     "data": {
      "text/plain": [
       "'lo'"
      ]
     },
     "execution_count": 51,
     "metadata": {},
     "output_type": "execute_result"
    }
   ],
   "source": [
    "a1[2: 4]"
   ]
  },
  {
   "cell_type": "code",
   "execution_count": 50,
   "id": "d7c90fda-1a3c-4c71-b17e-46b603c25a07",
   "metadata": {},
   "outputs": [
    {
     "data": {
      "text/plain": [
       "'I love'"
      ]
     },
     "execution_count": 50,
     "metadata": {},
     "output_type": "execute_result"
    }
   ],
   "source": [
    "a1[:6]"
   ]
  },
  {
   "cell_type": "code",
   "execution_count": 53,
   "id": "7df524c2-15c9-4268-ae62-9db830931096",
   "metadata": {},
   "outputs": [
    {
     "data": {
      "text/plain": [
       "'thon'"
      ]
     },
     "execution_count": 53,
     "metadata": {},
     "output_type": "execute_result"
    }
   ],
   "source": [
    "# output : thon\n",
    "a1[9:]"
   ]
  },
  {
   "cell_type": "code",
   "execution_count": 57,
   "id": "6bc1a067-11bd-422f-9203-1117a0dff9f7",
   "metadata": {},
   "outputs": [
    {
     "data": {
      "text/plain": [
       "'ython'"
      ]
     },
     "execution_count": 57,
     "metadata": {},
     "output_type": "execute_result"
    }
   ],
   "source": [
    "a1[-5:]"
   ]
  },
  {
   "cell_type": "code",
   "execution_count": 65,
   "id": "86ffb163-532c-4af6-a0ab-812e65408567",
   "metadata": {},
   "outputs": [],
   "source": [
    "# dictionaries:\n",
    "d = {'color': [11, 14, 'aaaa'],\n",
    "    'age': 36,\n",
    "    'related_info': [11, 23, 'jupyter']}\n",
    "\n"
   ]
  },
  {
   "cell_type": "code",
   "execution_count": 60,
   "id": "6c1d78fe-ace7-4a9d-90dd-0389c743b096",
   "metadata": {},
   "outputs": [
    {
     "data": {
      "text/plain": [
       "dict"
      ]
     },
     "execution_count": 60,
     "metadata": {},
     "output_type": "execute_result"
    }
   ],
   "source": [
    "type(d)"
   ]
  },
  {
   "cell_type": "code",
   "execution_count": 66,
   "id": "7cb2b3cf-7ba6-448f-9090-8d4a002ce3b2",
   "metadata": {},
   "outputs": [
    {
     "data": {
      "text/plain": [
       "[11, 14, 'aaaa']"
      ]
     },
     "execution_count": 66,
     "metadata": {},
     "output_type": "execute_result"
    }
   ],
   "source": [
    "d['color']"
   ]
  },
  {
   "cell_type": "code",
   "execution_count": 62,
   "id": "2aa52f29-2645-4214-9d65-3f428eb980ef",
   "metadata": {},
   "outputs": [
    {
     "data": {
      "text/plain": [
       "3"
      ]
     },
     "execution_count": 62,
     "metadata": {},
     "output_type": "execute_result"
    }
   ],
   "source": [
    "len(d)"
   ]
  },
  {
   "cell_type": "code",
   "execution_count": 63,
   "id": "0157c247-3687-413c-8783-d469346c02ae",
   "metadata": {},
   "outputs": [
    {
     "data": {
      "text/plain": [
       "[11, 23, 'jupyter']"
      ]
     },
     "execution_count": 63,
     "metadata": {},
     "output_type": "execute_result"
    }
   ],
   "source": [
    "d['related_info']"
   ]
  },
  {
   "cell_type": "code",
   "execution_count": 64,
   "id": "2b07b403-4c2b-4163-93b9-bc173ec39d21",
   "metadata": {},
   "outputs": [
    {
     "data": {
      "text/plain": [
       "23"
      ]
     },
     "execution_count": 64,
     "metadata": {},
     "output_type": "execute_result"
    }
   ],
   "source": [
    "d['related_info'][1]"
   ]
  },
  {
   "cell_type": "code",
   "execution_count": null,
   "id": "9b35d65a-664a-471f-90ab-19ffccba2bb9",
   "metadata": {},
   "outputs": [],
   "source": []
  }
 ],
 "metadata": {
  "kernelspec": {
   "display_name": "Python 3 (ipykernel)",
   "language": "python",
   "name": "python3"
  },
  "language_info": {
   "codemirror_mode": {
    "name": "ipython",
    "version": 3
   },
   "file_extension": ".py",
   "mimetype": "text/x-python",
   "name": "python",
   "nbconvert_exporter": "python",
   "pygments_lexer": "ipython3",
   "version": "3.11.11"
  }
 },
 "nbformat": 4,
 "nbformat_minor": 5
}
