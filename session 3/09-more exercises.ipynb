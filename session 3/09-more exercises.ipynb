{
 "cells": [
  {
   "cell_type": "code",
   "execution_count": 1,
   "id": "34fbe8bd-636e-4dc4-ac71-a4c304ad24c9",
   "metadata": {},
   "outputs": [],
   "source": [
    "# Exercise 1: Import NumPy and print its version\n"
   ]
  },
  {
   "cell_type": "code",
   "execution_count": 2,
   "id": "41c946f5-e45d-494f-bd42-eb73ac08add5",
   "metadata": {},
   "outputs": [],
   "source": [
    "# Exercise 2: Create a 1D array of numbers from 0 to 14\n"
   ]
  },
  {
   "cell_type": "code",
   "execution_count": 3,
   "id": "50e64889-a0cd-4d64-a9d7-d426214654d1",
   "metadata": {},
   "outputs": [],
   "source": [
    "# Exercise 3: Create a 2D array of shape (5, 5) filled with zeros\n"
   ]
  },
  {
   "cell_type": "code",
   "execution_count": 4,
   "id": "37165a52-40e7-4cbe-95ba-ed62209e5a1c",
   "metadata": {},
   "outputs": [],
   "source": [
    "# Exercise 4: Create a 2D array of shape (4, 4) filled with ones\n"
   ]
  },
  {
   "cell_type": "code",
   "execution_count": 5,
   "id": "8df44dca-2e9f-45f7-a497-00d624946def",
   "metadata": {},
   "outputs": [],
   "source": [
    "# Exercise 5: Create a 3x3 identity matrix\n"
   ]
  },
  {
   "cell_type": "code",
   "execution_count": 6,
   "id": "0529e932-04f1-4a0f-abc5-ade3a307dfbb",
   "metadata": {},
   "outputs": [],
   "source": [
    "# Exercise 6: Create an array of 20 random integers between 1 and 100\n"
   ]
  },
  {
   "cell_type": "code",
   "execution_count": 7,
   "id": "ff3c17c6-0149-4a7e-89e0-f1cddef53e74",
   "metadata": {},
   "outputs": [],
   "source": [
    "# Exercise 7: Create a 1D array of 10 evenly spaced numbers between 0 and 1\n"
   ]
  },
  {
   "cell_type": "code",
   "execution_count": 8,
   "id": "a701c26a-2b5f-4b97-a2a5-62d26c091277",
   "metadata": {},
   "outputs": [],
   "source": [
    "# Exercise 8: Create a 2D array of shape (3, 4) with values ranging from 10 to 21\n"
   ]
  },
  {
   "cell_type": "code",
   "execution_count": 9,
   "id": "e1788d1c-eeed-4b39-a14e-e5519c35df00",
   "metadata": {},
   "outputs": [],
   "source": [
    "# Exercise 9: Multiply two matrices of shape (2, 3) and (3, 2)\n"
   ]
  },
  {
   "cell_type": "code",
   "execution_count": 10,
   "id": "75724890-fa62-4031-8f95-cc56f6568739",
   "metadata": {},
   "outputs": [],
   "source": [
    "# Exercise 10: Find the sum of all elements in a 2D array of shape (4, 4)\n"
   ]
  },
  {
   "cell_type": "code",
   "execution_count": 11,
   "id": "9cc48e47-c35a-49f7-9c79-18fa76dc30cd",
   "metadata": {},
   "outputs": [],
   "source": [
    "# Exercise 11: Find the mean, median, and standard deviation of a 1D array of 15 random numbers\n"
   ]
  },
  {
   "cell_type": "code",
   "execution_count": 12,
   "id": "0d8323c6-8392-40b8-96e2-6afdaa871f42",
   "metadata": {},
   "outputs": [],
   "source": [
    "# Exercise 12: Reshape a 1D array of 16 elements into a 4x4 matrix\n"
   ]
  },
  {
   "cell_type": "code",
   "execution_count": 13,
   "id": "acf8fdf9-5d53-4c6b-9963-fcaa4ebf4153",
   "metadata": {},
   "outputs": [],
   "source": [
    "# Exercise 13: Extract all even numbers from a 1D array of integers\n"
   ]
  },
  {
   "cell_type": "code",
   "execution_count": 14,
   "id": "6b6f7ffe-0fc6-43b4-868f-53c821fa2d8e",
   "metadata": {},
   "outputs": [],
   "source": [
    "# Exercise 14: Replace all negative numbers in a 1D array with 0\n"
   ]
  },
  {
   "cell_type": "code",
   "execution_count": 15,
   "id": "de8654ff-4078-44dc-a1cb-f765d7784198",
   "metadata": {},
   "outputs": [],
   "source": [
    "# Exercise 15: Find the index of the maximum value in a 1D array\n"
   ]
  },
  {
   "cell_type": "code",
   "execution_count": 16,
   "id": "81c9762e-9efd-4e41-8cda-2a4fdac0682d",
   "metadata": {},
   "outputs": [],
   "source": [
    "# Exercise 16: Concatenate two 1D arrays into a single array\n"
   ]
  },
  {
   "cell_type": "code",
   "execution_count": 17,
   "id": "e3567063-cf21-4408-876a-9472402bf2ce",
   "metadata": {},
   "outputs": [],
   "source": [
    "# Exercise 17: Split a 1D array of 12 elements into 3 equal parts\n"
   ]
  },
  {
   "cell_type": "code",
   "execution_count": 18,
   "id": "8026d5c9-8437-4e01-9ca0-d28668a84c75",
   "metadata": {},
   "outputs": [],
   "source": [
    "# Exercise 18: Create a 2D array of shape (5, 5) with random values and normalize it (subtract mean and divide by standard deviation)\n"
   ]
  },
  {
   "cell_type": "code",
   "execution_count": 19,
   "id": "7154d8e8-900c-478d-8a13-600946b4c514",
   "metadata": {},
   "outputs": [],
   "source": [
    "# Exercise 19: Compute the dot product of two 1D arrays of length 5\n"
   ]
  },
  {
   "cell_type": "code",
   "execution_count": null,
   "id": "44558356-7e3f-4802-8c60-a112d3550d26",
   "metadata": {},
   "outputs": [],
   "source": [
    "# Exercise 20: Create a 2D array of shape (3, 3) and flatten it into a 1D array\n"
   ]
  }
 ],
 "metadata": {
  "kernelspec": {
   "display_name": "Python 3 (ipykernel)",
   "language": "python",
   "name": "python3"
  },
  "language_info": {
   "codemirror_mode": {
    "name": "ipython",
    "version": 3
   },
   "file_extension": ".py",
   "mimetype": "text/x-python",
   "name": "python",
   "nbconvert_exporter": "python",
   "pygments_lexer": "ipython3",
   "version": "3.10.13"
  }
 },
 "nbformat": 4,
 "nbformat_minor": 5
}
