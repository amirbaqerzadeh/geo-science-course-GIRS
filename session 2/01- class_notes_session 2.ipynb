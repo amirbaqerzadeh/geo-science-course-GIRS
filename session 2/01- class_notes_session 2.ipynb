{
 "cells": [
  {
   "cell_type": "code",
   "execution_count": null,
   "id": "2186e53d-e88d-416f-b409-247e4f92b753",
   "metadata": {},
   "outputs": [],
   "source": [
    "x = 2"
   ]
  },
  {
   "cell_type": "code",
   "execution_count": null,
   "id": "128d9975-cce3-4cec-a5a8-afd4a749855c",
   "metadata": {},
   "outputs": [],
   "source": [
    "x"
   ]
  },
  {
   "cell_type": "code",
   "execution_count": null,
   "id": "d55db627-c6cd-48d9-9b74-6d8455616ed2",
   "metadata": {},
   "outputs": [],
   "source": [
    "print(x)"
   ]
  },
  {
   "cell_type": "code",
   "execution_count": null,
   "id": "a93e040c-4dc3-4f9a-acdc-42688e907eb4",
   "metadata": {},
   "outputs": [],
   "source": [
    "# Dictionaries\n",
    "d = {'color':'red',\n",
    "    'age':  38,\n",
    "    'my list': [11, 23, 'jupyter']}"
   ]
  },
  {
   "cell_type": "code",
   "execution_count": null,
   "id": "7ad0de20-8d0d-48c2-9a2d-c77592a8d364",
   "metadata": {},
   "outputs": [],
   "source": [
    "d['my list'][2]"
   ]
  },
  {
   "cell_type": "code",
   "execution_count": null,
   "id": "5b4949d8-6c49-4f4a-9794-f933a80632c6",
   "metadata": {},
   "outputs": [],
   "source": [
    "d['my list'][2][4:6]"
   ]
  },
  {
   "cell_type": "code",
   "execution_count": null,
   "id": "ece15e0c-63cf-44ca-b277-43ee93489706",
   "metadata": {},
   "outputs": [],
   "source": [
    "# Booleans\n",
    "False"
   ]
  },
  {
   "cell_type": "code",
   "execution_count": null,
   "id": "04275182-458b-4d80-8140-f140a782298d",
   "metadata": {},
   "outputs": [],
   "source": [
    "True"
   ]
  },
  {
   "cell_type": "code",
   "execution_count": null,
   "id": "a888c86b-d9ca-455b-a9cf-5378083d89a4",
   "metadata": {},
   "outputs": [],
   "source": [
    "2 < 19"
   ]
  },
  {
   "cell_type": "code",
   "execution_count": null,
   "id": "76c19f46-d54b-4009-a2a7-77bb8d749eff",
   "metadata": {},
   "outputs": [],
   "source": [
    "-2 > 13"
   ]
  },
  {
   "cell_type": "code",
   "execution_count": null,
   "id": "710a845c-62fd-4556-a6e5-d9bb39b8aedf",
   "metadata": {},
   "outputs": [],
   "source": [
    "3 == 2 + 1"
   ]
  },
  {
   "cell_type": "code",
   "execution_count": null,
   "id": "8d6c46f3-9c69-43e1-8538-41ba2f80030f",
   "metadata": {},
   "outputs": [],
   "source": [
    "3 = 2 + 1"
   ]
  },
  {
   "cell_type": "code",
   "execution_count": null,
   "id": "1807ca9d-24dc-4ecd-807e-bf4d2095743a",
   "metadata": {},
   "outputs": [],
   "source": [
    "3 == 13"
   ]
  },
  {
   "cell_type": "code",
   "execution_count": null,
   "id": "afd8bc7f-7bd8-404c-b8f2-975d9006563c",
   "metadata": {},
   "outputs": [],
   "source": [
    "3 != 12"
   ]
  },
  {
   "cell_type": "code",
   "execution_count": null,
   "id": "970b0b7c-0f2c-4241-b45f-63101d8a2330",
   "metadata": {},
   "outputs": [],
   "source": [
    "3 >= 2"
   ]
  },
  {
   "cell_type": "code",
   "execution_count": null,
   "id": "18cb00fa-cb46-4319-8b0b-0a94f77b12c7",
   "metadata": {},
   "outputs": [],
   "source": [
    "#tuple (immutable)\n",
    "t = (2, 4, 6)\n"
   ]
  },
  {
   "cell_type": "code",
   "execution_count": null,
   "id": "a25c5230-2b8e-4e0d-8c84-95db5cb42e57",
   "metadata": {},
   "outputs": [],
   "source": [
    "type(t)"
   ]
  },
  {
   "cell_type": "code",
   "execution_count": null,
   "id": "9bfc1e6d-3407-49df-910e-2415feba8682",
   "metadata": {},
   "outputs": [],
   "source": [
    "L_1 = [2, 4, 6]\n",
    "type(L_1)"
   ]
  },
  {
   "cell_type": "code",
   "execution_count": null,
   "id": "b9739115-3114-4d26-a71c-ea04001c98f4",
   "metadata": {},
   "outputs": [],
   "source": [
    "L_1[0] = 'Hey'"
   ]
  },
  {
   "cell_type": "code",
   "execution_count": null,
   "id": "85ad4a5d-c8b3-4f5a-b05a-65abb9dcb82a",
   "metadata": {},
   "outputs": [],
   "source": [
    "# mutable\n",
    "L_1"
   ]
  },
  {
   "cell_type": "code",
   "execution_count": null,
   "id": "4037c5b8-d2bd-43ac-b0a1-bec9b6f58f49",
   "metadata": {},
   "outputs": [],
   "source": [
    "t[1]"
   ]
  },
  {
   "cell_type": "code",
   "execution_count": null,
   "id": "d1d35cdf-7fac-4550-a2ef-f80911157215",
   "metadata": {},
   "outputs": [],
   "source": [
    "t[1] = 28"
   ]
  },
  {
   "cell_type": "code",
   "execution_count": null,
   "id": "5a5f0950-f569-4c5a-bbb2-3665dc56eec6",
   "metadata": {},
   "outputs": [],
   "source": [
    "# Logic Operators\n",
    "if 3 < 2:\n",
    "    print(\"Hey!\")"
   ]
  },
  {
   "cell_type": "code",
   "execution_count": null,
   "id": "f20a5052-97cc-495b-aaae-116ea5bc208b",
   "metadata": {},
   "outputs": [],
   "source": [
    "if 1 < 2:\n",
    "    print('correct!')"
   ]
  },
  {
   "cell_type": "code",
   "execution_count": null,
   "id": "bbc244ee-2d50-400f-a6b9-119a65df1576",
   "metadata": {},
   "outputs": [],
   "source": [
    "if 3 < 2:\n",
    "    print(\"Hey!\")\n",
    "else:\n",
    "    print(\"Bye!\")"
   ]
  },
  {
   "cell_type": "code",
   "execution_count": null,
   "id": "d03c75c7-317d-4629-96c8-fe0669b34bc9",
   "metadata": {},
   "outputs": [],
   "source": [
    "if 1 < 2:\n",
    "    print(\"Hey!\")\n",
    "else:\n",
    "    print(\"Bye!\")"
   ]
  },
  {
   "cell_type": "code",
   "execution_count": null,
   "id": "2bc657d7-04b1-42a4-b060-cbf41530a2c1",
   "metadata": {},
   "outputs": [],
   "source": [
    "if 1 == 2- 15:\n",
    "    print('first')\n",
    "elif 1 == 4 - 3:\n",
    "    print(\"second\")\n",
    "else:\n",
    "    print('last!')"
   ]
  },
  {
   "cell_type": "code",
   "execution_count": null,
   "id": "886809d1-d328-4e0f-ba48-30e6430b0be2",
   "metadata": {},
   "outputs": [],
   "source": [
    "# Loops\n",
    "temps = [-1, 2.3, 15, 6]\n",
    "for temp in temps:\n",
    "    print(temp ** 2)\n",
    "\n"
   ]
  },
  {
   "cell_type": "code",
   "execution_count": null,
   "id": "2e319713-e812-4a70-8ca2-ec84667d3db8",
   "metadata": {},
   "outputs": [],
   "source": [
    "seq = ['a', 2, 3, 4, 5]\n",
    "for item in seq:\n",
    "    print(\"I love python!\")\n"
   ]
  },
  {
   "cell_type": "code",
   "execution_count": null,
   "id": "ace0236d-be49-485b-85a1-89862b57ef19",
   "metadata": {},
   "outputs": [],
   "source": [
    "a = []\n",
    "for i in range(5):\n",
    "    a.append(i ** 2)"
   ]
  },
  {
   "cell_type": "code",
   "execution_count": null,
   "id": "3fe9b266-5efd-4df8-9827-6351f6bdfd9b",
   "metadata": {},
   "outputs": [],
   "source": [
    "print(a)"
   ]
  },
  {
   "cell_type": "code",
   "execution_count": null,
   "id": "eb4af3f1-a39a-40cc-9ea4-69037d6d7af0",
   "metadata": {},
   "outputs": [],
   "source": [
    "# functions\n",
    "type(a)"
   ]
  },
  {
   "cell_type": "code",
   "execution_count": null,
   "id": "494db224-585d-40c2-8462-0b64fcd1c4fc",
   "metadata": {},
   "outputs": [],
   "source": [
    "print('hello world!')"
   ]
  },
  {
   "cell_type": "code",
   "execution_count": null,
   "id": "a960996e-cbf4-4fe8-95f6-c94333bfd322",
   "metadata": {},
   "outputs": [],
   "source": [
    "def first_func():\n",
    "    print('this is my first function')\n",
    "    "
   ]
  },
  {
   "cell_type": "code",
   "execution_count": null,
   "id": "0cc7e280-2f7e-496a-bce4-c8468f7b4596",
   "metadata": {},
   "outputs": [],
   "source": [
    "first_func()"
   ]
  },
  {
   "cell_type": "code",
   "execution_count": null,
   "id": "12991357-103c-48c3-94f0-2c3f64163b32",
   "metadata": {},
   "outputs": [],
   "source": [
    "def add(a, b):\n",
    "    c = a + b\n",
    "    return c"
   ]
  },
  {
   "cell_type": "code",
   "execution_count": null,
   "id": "744be922-002f-4986-8893-e1a58acfb764",
   "metadata": {},
   "outputs": [],
   "source": [
    "print(add(2, 5))"
   ]
  },
  {
   "cell_type": "code",
   "execution_count": null,
   "id": "2205130d-9af8-438c-bb5d-ffc0f8cf0a2d",
   "metadata": {},
   "outputs": [],
   "source": [
    "z = add(1, 6)"
   ]
  },
  {
   "cell_type": "code",
   "execution_count": null,
   "id": "26af7b89-7b91-46b3-be91-3a5c416c5fe6",
   "metadata": {},
   "outputs": [],
   "source": [
    "z"
   ]
  },
  {
   "cell_type": "code",
   "execution_count": null,
   "id": "6c11c597-1093-4826-b240-3bcdf93d69cc",
   "metadata": {},
   "outputs": [],
   "source": [
    "add(2)"
   ]
  },
  {
   "cell_type": "code",
   "execution_count": null,
   "id": "3e003718-8690-441f-936d-30e8f540d285",
   "metadata": {},
   "outputs": [],
   "source": [
    "def add_2(a = 1, b = 2):\n",
    "    c = a + b\n",
    "    return c"
   ]
  },
  {
   "cell_type": "code",
   "execution_count": null,
   "id": "56436bd4-f0af-458a-8501-39849f534ac9",
   "metadata": {},
   "outputs": [],
   "source": [
    "add_2(11, 16)"
   ]
  },
  {
   "cell_type": "code",
   "execution_count": null,
   "id": "ba0b5a1d-5e40-4576-9037-8e2a4152ebb9",
   "metadata": {},
   "outputs": [],
   "source": [
    "def function_first(a = 'Mohammad'):\n",
    "    print(f\"Hello {a}\")"
   ]
  },
  {
   "cell_type": "code",
   "execution_count": null,
   "id": "a6e74ceb-5b78-4490-b911-0861d0342ec6",
   "metadata": {},
   "outputs": [],
   "source": [
    "function_first()"
   ]
  },
  {
   "cell_type": "code",
   "execution_count": null,
   "id": "83f90052-c3c6-4d8d-8824-583acbaa36e8",
   "metadata": {},
   "outputs": [],
   "source": [
    "function_first(\"Ali\")"
   ]
  },
  {
   "cell_type": "code",
   "execution_count": null,
   "id": "d672a477-476b-40ab-b82e-c5a5604b9512",
   "metadata": {},
   "outputs": [],
   "source": [
    "type(function_first)"
   ]
  },
  {
   "cell_type": "code",
   "execution_count": null,
   "id": "572248ec-b86a-45b6-85af-b8021df16bf7",
   "metadata": {},
   "outputs": [],
   "source": [
    "function_first()"
   ]
  },
  {
   "cell_type": "code",
   "execution_count": null,
   "id": "23abe04a-9468-41d6-a30a-e01063b67a0d",
   "metadata": {},
   "outputs": [],
   "source": [
    "# def square(a):\n",
    "#     '''\n",
    "#     this is one of my first functions\n",
    "#     I add some descripiton here...\n",
    "    \n",
    "#     '''\n",
    "#     return a ** 2"
   ]
  },
  {
   "cell_type": "code",
   "execution_count": 1,
   "id": "11e00cc9-33c7-4bcf-aae7-82cecfb53e63",
   "metadata": {},
   "outputs": [
    {
     "ename": "NameError",
     "evalue": "name 'square' is not defined",
     "output_type": "error",
     "traceback": [
      "\u001b[1;31m---------------------------------------------------------------------------\u001b[0m",
      "\u001b[1;31mNameError\u001b[0m                                 Traceback (most recent call last)",
      "Cell \u001b[1;32mIn[1], line 1\u001b[0m\n\u001b[1;32m----> 1\u001b[0m \u001b[43msquare\u001b[49m(\u001b[38;5;241m2\u001b[39m)\n",
      "\u001b[1;31mNameError\u001b[0m: name 'square' is not defined"
     ]
    }
   ],
   "source": [
    "square(2)"
   ]
  },
  {
   "cell_type": "code",
   "execution_count": null,
   "id": "4b77fddb-84a9-44cd-baf2-5a5880527362",
   "metadata": {},
   "outputs": [],
   "source": [
    "help(print)"
   ]
  },
  {
   "cell_type": "code",
   "execution_count": null,
   "id": "56953759-2422-4fe5-bee4-396d5c0b2086",
   "metadata": {},
   "outputs": [],
   "source": [
    "help(square)"
   ]
  },
  {
   "cell_type": "code",
   "execution_count": null,
   "id": "91868988-d122-4e84-9816-ece5e9a21c48",
   "metadata": {},
   "outputs": [],
   "source": [
    "range()"
   ]
  },
  {
   "cell_type": "code",
   "execution_count": null,
   "id": "dabf96a6-1604-4646-9965-f53c93e5dfb9",
   "metadata": {},
   "outputs": [],
   "source": [
    "# def weight(m, g=9.8):\n",
    "#     return m * g"
   ]
  },
  {
   "cell_type": "code",
   "execution_count": null,
   "id": "c1153a9c-4e99-46f3-93b8-6b5e8fd00144",
   "metadata": {},
   "outputs": [],
   "source": [
    "m_1 = weight(50)"
   ]
  },
  {
   "cell_type": "code",
   "execution_count": null,
   "id": "752a4e16-6487-4d0b-aee5-61c1d373b04e",
   "metadata": {},
   "outputs": [],
   "source": [
    "m_1"
   ]
  },
  {
   "cell_type": "code",
   "execution_count": null,
   "id": "8417b843-e858-48e8-aea6-69f68010087c",
   "metadata": {},
   "outputs": [],
   "source": [
    "m_1_mars = weight(50, 8.6)"
   ]
  },
  {
   "cell_type": "code",
   "execution_count": null,
   "id": "f92be5b1-ffe4-42a1-a145-97341e384f48",
   "metadata": {},
   "outputs": [],
   "source": [
    "m_1_mars"
   ]
  },
  {
   "cell_type": "code",
   "execution_count": 2,
   "id": "ca036bdd-7e3e-4816-850b-f145742f9c43",
   "metadata": {},
   "outputs": [],
   "source": [
    "# file: .py\n",
    "\n",
    "from my_madule import (square, weight)"
   ]
  },
  {
   "cell_type": "code",
   "execution_count": 3,
   "id": "86031cf3-1b79-4d8d-8c4a-9eb05a7c04a2",
   "metadata": {},
   "outputs": [
    {
     "data": {
      "text/plain": [
       "25"
      ]
     },
     "execution_count": 3,
     "metadata": {},
     "output_type": "execute_result"
    }
   ],
   "source": [
    "square(5)"
   ]
  },
  {
   "cell_type": "code",
   "execution_count": 4,
   "id": "a4786532-7a6e-423c-9875-022cd94f0b9c",
   "metadata": {},
   "outputs": [],
   "source": [
    "def find_even_numbers(n):\n",
    "    '''\n",
    "    return even numbers of n\n",
    "    \n",
    "    '''\n",
    "    evens = []\n",
    "    for i in range(n + 1):\n",
    "        if i % 2 == 0:\n",
    "            evens.append(i)\n",
    "    return evens"
   ]
  },
  {
   "cell_type": "code",
   "execution_count": 5,
   "id": "d0861391-763e-4c5b-81d1-e90661e03668",
   "metadata": {},
   "outputs": [
    {
     "data": {
      "text/plain": [
       "[0, 2, 4, 6, 8, 10, 12]"
      ]
     },
     "execution_count": 5,
     "metadata": {},
     "output_type": "execute_result"
    }
   ],
   "source": [
    "find_even_numbers(13)"
   ]
  },
  {
   "cell_type": "code",
   "execution_count": null,
   "id": "934b08bf-6bdc-40c7-b378-7571fc6e1b8f",
   "metadata": {},
   "outputs": [],
   "source": []
  }
 ],
 "metadata": {
  "kernelspec": {
   "display_name": "Python 3 (ipykernel)",
   "language": "python",
   "name": "python3"
  },
  "language_info": {
   "codemirror_mode": {
    "name": "ipython",
    "version": 3
   },
   "file_extension": ".py",
   "mimetype": "text/x-python",
   "name": "python",
   "nbconvert_exporter": "python",
   "pygments_lexer": "ipython3",
   "version": "3.11.11"
  }
 },
 "nbformat": 4,
 "nbformat_minor": 5
}
