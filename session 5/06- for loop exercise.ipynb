{
 "cells": [
  {
   "cell_type": "markdown",
   "id": "57cf1f80-3db6-4439-863f-c2cf673b7831",
   "metadata": {},
   "source": [
    "# 1. Assignment Exercise\n",
    "\n",
    "## **Objective:**\n",
    "Create a 2x2 grid of subplots using Matplotlib. Each subplot should display a different mathematical function. Use a `for` loop to generate the plots dynamically.\n",
    "\n",
    "## **Requirements:**\n",
    "\n",
    "1. Define the following mathematical functions:\n",
    "   - $( y = sin(x) $)\n",
    "   - $( y = cos(x) $)\n",
    "   - $( y = tan(x) $)\n",
    "   - $( y = x^2 $)\n",
    "\n",
    "2. Use a `for` loop to:\n",
    "   - Iterate through the functions.\n",
    "   - Plot each function in a separate subplot.\n",
    "   - Customize each subplot with a title, x-label, y-label, and grid.\n",
    "\n",
    "3. Save the final figure as `multi_plot.png`.\n",
    "\n",
    "4. Use the following x-axis values:\n",
    "   ```python\n",
    "   x = np.linspace(-2 * np.pi, 2 * np.pi, 100)"
   ]
  },
  {
   "cell_type": "markdown",
   "id": "9f8553a9-1afb-41d5-95bd-bb9faca0eaec",
   "metadata": {},
   "source": [
    "### Hints:\n",
    "\n",
    "    Use plt.subplots() to create a 2x2 grid of subplots.\n",
    "\n",
    "    Store the functions in a list and loop through them.\n",
    "\n",
    "    Customize each subplot using methods like set_title(), set_xlabel(), set_ylabel(), and grid()."
   ]
  },
  {
   "cell_type": "code",
   "execution_count": null,
   "id": "b168947e-1ec1-4e05-8d18-db4c81d68fcf",
   "metadata": {},
   "outputs": [],
   "source": [
    "# code here:"
   ]
  }
 ],
 "metadata": {
  "kernelspec": {
   "display_name": "Python 3 (ipykernel)",
   "language": "python",
   "name": "python3"
  },
  "language_info": {
   "codemirror_mode": {
    "name": "ipython",
    "version": 3
   },
   "file_extension": ".py",
   "mimetype": "text/x-python",
   "name": "python",
   "nbconvert_exporter": "python",
   "pygments_lexer": "ipython3",
   "version": "3.13.1"
  }
 },
 "nbformat": 4,
 "nbformat_minor": 5
}
